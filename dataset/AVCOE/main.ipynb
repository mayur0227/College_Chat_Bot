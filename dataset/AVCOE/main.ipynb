{
 "cells": [
  {
   "cell_type": "code",
   "execution_count": 1,
   "metadata": {},
   "outputs": [],
   "source": [
    "import pandas as pd"
   ]
  },
  {
   "cell_type": "code",
   "execution_count": 3,
   "metadata": {},
   "outputs": [
    {
     "name": "stdout",
     "output_type": "stream",
     "text": [
      "<class 'pandas.core.frame.DataFrame'>\n"
     ]
    }
   ],
   "source": [
    "df = pd.read_json('AVCOE.json')\n",
    "print(type(df))"
   ]
  },
  {
   "cell_type": "code",
   "execution_count": 10,
   "metadata": {},
   "outputs": [
    {
     "name": "stdout",
     "output_type": "stream",
     "text": [
      "{'intents': 0    {'intent': 'subjectwise_info', 'examples': ['W...\n",
      "Name: intents, dtype: object}\n"
     ]
    }
   ],
   "source": [
    "df = dict(df)\n",
    "print(df)"
   ]
  },
  {
   "cell_type": "code",
   "execution_count": 18,
   "metadata": {},
   "outputs": [
    {
     "name": "stdout",
     "output_type": "stream",
     "text": [
      "{'intent': 'subjectwise_info', 'examples': ['What are the subjects in the first year of engineering at AVCOE?', 'Can you tell me the syllabus for Computer Science subjects at AVCOE?', 'What are the subjects for Mechanical Engineering students at AVCOE?', 'Tell me the subjects in Electrical Engineering at AVCOE.', 'What are the core subjects for Civil Engineering students at AVCOE?', 'What electives are available for Electronics and Telecommunication Engineering students at AVCOE?', 'Can you provide a list of subjects for Information Technology students at AVCOE?', 'What are the subjects for Instrumentation Engineering students at AVCOE?', 'What is the syllabus for Chemical Engineering at AVCOE?', 'Can you share the subjects for Biotechnology students at AVCOE?', 'What are the core and elective subjects in the Computer Engineering department at AVCOE?', 'Which subjects are included in the second year of Civil Engineering at AVCOE?', 'Tell me about the subjects offered in the third year of Mechanical Engineering at AVCOE.', 'What are the subjects in the final year of Electrical Engineering at AVCOE?', 'Are there any AI/ML-related subjects in the Computer Science curriculum at AVCOE?', 'Which subjects do students of the Electronics department study at AVCOE?', 'Can you provide details on the core and elective subjects in the Civil Engineering program at AVCOE?', 'How many subjects are there in the first year of the engineering program at AVCOE?', 'Tell me the subjects covered in the third year of Civil Engineering at AVCOE.', 'What are the electives available in the second year of Computer Science at AVCOE?', 'Are there any specific robotics subjects at AVCOE?', 'What subjects do students in the Biotechnology department at AVCOE study?', 'What are the key subjects covered in the Computer Engineering program at AVCOE?', 'Can you tell me about the Mathematics subjects in engineering at AVCOE?', 'How are the electronics subjects structured at AVCOE?', 'What subjects are available for the final year of Information Technology students at AVCOE?', 'What are the subjects in the second year of Instrumentation Engineering at AVCOE?', 'Are there any elective subjects in the final year of Electrical Engineering at AVCOE?', 'What are the core subjects for the first year of engineering at AVCOE?', 'Can you list the subjects offered in the second year of Mechanical Engineering at AVCOE?', 'What are the most important subjects in Chemical Engineering at AVCOE?', 'What subjects in Civil Engineering deal with environmental concerns at AVCOE?', 'What are the core and elective subjects in the Mechanical Engineering program at AVCOE?', 'What are the subjects related to automation and process control at AVCOE?', 'Can you explain the subjects in Electrical Engineering related to power systems?', 'What electives are available for final-year students in the Civil Engineering department at AVCOE?', 'Tell me about the lab-based subjects for Computer Science students at AVCOE.', 'What subjects do students of the Electronics department at AVCOE study in the third year?', 'What kind of subjects do students in the Biotechnology department study in their final year?', 'What core subjects are taught to students of Instrumentation Engineering in their second year?', 'How is the subject structure for the Information Technology department at AVCOE?', 'What subjects are taught in the final year of Computer Science at AVCOE?', 'Can you list all the subjects offered in the first year of engineering at AVCOE?', 'What are the most important subjects in the third year of Electrical Engineering at AVCOE?', 'How are electives structured in the second year of Civil Engineering at AVCOE?', 'Can you provide the subjects offered for students in the final year of Mechanical Engineering at AVCOE?', 'What are the advanced subjects in Chemical Engineering at AVCOE?', 'Tell me about the core subjects in Electrical Engineering at AVCOE.', 'What are the core subjects for Computer Engineering students at AVCOE?', 'Can you tell me about the subjects that focus on machine learning and artificial intelligence at AVCOE?', 'What subjects related to construction and materials are offered in Civil Engineering at AVCOE?', 'What are the most important subjects related to robotics in Mechanical Engineering at AVCOE?', 'How is the subject progression in Electronics and Telecommunication Engineering at AVCOE?', 'Can you list subjects in the second year of Chemical Engineering at AVCOE?', 'What are the subjects related to data science in the Computer Science department at AVCOE?', 'How are electrical circuits taught in the Electrical Engineering department at AVCOE?', 'What electives are available for Biotechnology students at AVCOE?', 'Can you explain the subjects related to embedded systems at AVCOE?', 'What are the core subjects related to programming in Computer Science at AVCOE?', 'Can you share the subjects related to network security in Information Technology at AVCOE?', 'What subjects in Mechanical Engineering are focused on materials and manufacturing?', 'How many subjects are taught in the final year of Civil Engineering at AVCOE?', 'What subjects related to thermodynamics are offered in Mechanical Engineering at AVCOE?', 'Can you explain the subjects related to geotechnical engineering at AVCOE?', 'What are the subjects in Electrical Engineering related to control systems?', 'What electives are available for students in the final year of Information Technology at AVCOE?', 'Can you provide a detailed list of subjects for first-year Civil Engineering students at AVCOE?', 'How many subjects related to data structures are covered in Computer Science at AVCOE?', 'Tell me about the practical subjects in Instrumentation Engineering at AVCOE.', 'What are the core subjects in Biotechnology at AVCOE?', 'How are communication systems taught in Electronics and Telecommunication at AVCOE?', 'What are the subjects offered in the third year of Instrumentation Engineering at AVCOE?', 'What electives in Machine Learning are available in the final year of Computer Science at AVCOE?', 'What are the core subjects related to fluid mechanics in Mechanical Engineering at AVCOE?', 'How is the subject structure in the first year of Instrumentation Engineering at AVCOE?', 'What subjects are related to software engineering in Computer Science at AVCOE?', 'Can you explain the subject structure in Electrical Engineering in the second year at AVCOE?', 'What are the core subjects in the Chemical Engineering program at AVCOE?', 'Can you list all the subjects in the second year of Biotechnology at AVCOE?', 'Tell me about the practical subjects in the Civil Engineering department at AVCOE?', 'What are the subjects offered in the first year of Electronics Engineering at AVCOE?', 'What are the key subjects in the Electrical Engineering program at AVCOE?', 'What electives are available in the second year of Electronics and Telecommunication Engineering at AVCOE?', 'Can you share the syllabus for Mechanical Engineering at AVCOE?', 'What are the subjects offered in the third year of Electronics at AVCOE?'], 'responses': ['In the first year of engineering at AVCOE, students study foundational subjects such as Mathematics, Physics, Chemistry, Engineering Mechanics, and Computer Programming. These subjects are designed to provide a solid base for the core engineering disciplines.', 'The Computer Science department at AVCOE covers subjects like Data Structures, Algorithms, Operating Systems, Computer Networks, and Software Engineering in the first and second years. Electives such as Artificial Intelligence, Machine Learning, and Data Science are also offered in later years.', 'In the Mechanical Engineering department at AVCOE, core subjects include Thermodynamics, Fluid Mechanics, Strength of Materials, Engineering Mechanics, and Manufacturing Processes. Advanced electives like Robotics, CAD/CAM, and Vibration Analysis are available in the later years.', 'The Electrical Engineering department at AVCOE offers subjects such as Circuit Theory, Electrical Machines, Power Systems, Control Systems, and Electromagnetic Fields in the initial years. Later years focus on advanced topics like Power Electronics, Renewable Energy Systems, and Electrical Drives.', 'The Civil Engineering syllabus at AVCOE includes core subjects such as Structural Analysis, Building Materials, Fluid Mechanics, Geotechnical Engineering, and Transportation Engineering. Elective subjects like Environmental Engineering and Construction Management are available in the later years.', 'The Electronics and Telecommunication Engineering department at AVCOE offers subjects including Digital Electronics, Analog Electronics, Signals and Systems, Communication Systems, and Microprocessors. Electives such as Embedded Systems and IoT are available in later semesters.', 'The Information Technology department at AVCOE includes subjects like Database Management, Web Technologies, Network Security, Software Engineering, and Operating Systems. Electives in Cloud Computing, Cybersecurity, and Data Science are offered in advanced years.', 'The Instrumentation Engineering syllabus includes subjects like Process Control, Measurement Systems, Industrial Instrumentation, Automation, and Control Systems. Electives like Robotics and Data Acquisition Systems are offered in the later years.', 'The Chemical Engineering department at AVCOE covers subjects such as Material Science, Fluid Mechanics, Process Control, Thermodynamics, and Biochemical Engineering. In later semesters, electives include topics like Environmental Engineering and Process Optimization.', 'Yes, the Biotechnology department at AVCOE includes subjects such as Biochemistry, Molecular Biology, Genetic Engineering, Bioprocess Engineering, and Bioinformatics. Elective subjects such as Nanotechnology and Biopharmaceuticals are also offered.', 'In the Computer Engineering department at AVCOE, students study subjects such as Discrete Mathematics, Data Structures, Computer Networks, Digital Electronics, and Software Engineering. Electives in Artificial Intelligence, Machine Learning, and Cloud Computing are offered in higher years.', 'In the second year of Civil Engineering at AVCOE, subjects like Fluid Mechanics, Structural Analysis, Material Science, and Geotechnical Engineering are covered. Elective subjects like Environmental Engineering are also introduced.', 'In the third year of Mechanical Engineering at AVCOE, subjects include Strength of Materials, Machine Design, Heat Transfer, Manufacturing Technology, and Fluid Dynamics. Electives such as Robotics, Automation, and Vibrations are also offered.', 'The final year of Electrical Engineering at AVCOE includes subjects like Power System Protection, Electrical Drives, Power Electronics, and Renewable Energy. Students also engage in a major project in their final year to apply the knowledge gained.', 'Yes, the Computer Science department at AVCOE offers electives related to Artificial Intelligence and Machine Learning in the later years of the program. These electives are designed to provide in-depth knowledge of AI, ML, and their practical applications.', 'The Electronics department at AVCOE offers subjects like Digital Electronics, Control Systems, Communication Systems, Embedded Systems, and Microprocessors. Students also work on projects related to IoT, Robotics, and Signal Processing.', 'The Civil Engineering program at AVCOE offers core subjects such as Structural Analysis, Building Materials, Fluid Mechanics, and Geotechnical Engineering in earlier years. Later years include electives like Environmental Engineering, Construction Management, and Infrastructure Design.', 'In the first year of the engineering program at AVCOE, students study subjects like Mathematics, Physics, Chemistry, Engineering Mechanics, and Introduction to Computing. These subjects are essential for developing a foundation in engineering principles.', 'The second year of Civil Engineering includes subjects on Structural Mechanics, Concrete Technology, Water Resources, and Soil Mechanics. Students also take practical-based courses to complement their theoretical learning.', 'In the second year of Computer Science, students study subjects such as Discrete Mathematics, Data Structures, Software Engineering, and Operating Systems. Some elective subjects in this year include Database Management and Web Technologies.', 'The Robotics-related subjects are offered under Mechanical Engineering, Electronics and Telecommunication, and Computer Science departments. These subjects include Robotics and Automation and are offered as electives in the later years.', 'The Biotechnology department at AVCOE offers core subjects such as Molecular Biology, Biochemistry, Bioprocess Engineering, and Genetic Engineering. Electives like Bioinformatics and Nanotechnology are also available in advanced years.', 'The Computer Engineering program at AVCOE offers subjects like Digital Electronics, Computer Networks, Data Structures, and Software Engineering. Students can specialize in fields such as AI, ML, and Robotics through electives.', 'In the first year of engineering at AVCOE, Mathematics, Physics, and Chemistry are foundational subjects along with Engineering Mechanics and introductory courses in Computer Science and Programming.', 'The Electronics department offers subjects such as Analog Electronics, Communication Systems, and Digital Logic in the first year. Later, electives like Embedded Systems and Signal Processing are offered.', 'The final year subjects for Information Technology students at AVCOE include Software Engineering, Cloud Computing, Advanced Database Management, and IT Project Management.', 'The second-year Instrumentation Engineering subjects at AVCOE include Measurement Systems, Process Control, Industrial Instrumentation, and Electrical Systems Design.', 'Electrical Engineering students at AVCOE have electives like Power Electronics, Renewable Energy Systems, and Electrical Drives available in their final year to enhance their expertise.', 'The first-year core subjects at AVCOE include Mathematics, Physics, Chemistry, Engineering Mechanics, and Programming for all engineering disciplines.', 'Mechanical Engineering students in their second year study subjects such as Thermodynamics, Manufacturing Processes, Fluid Mechanics, and Engineering Mechanics.']}\n"
     ]
    }
   ],
   "source": [
    "df = dict(df['intents'][0])\n",
    "print(df)\n"
   ]
  },
  {
   "cell_type": "code",
   "execution_count": 20,
   "metadata": {},
   "outputs": [
    {
     "name": "stdout",
     "output_type": "stream",
     "text": [
      "Questions :  ['What are the subjects in the first year of engineering at AVCOE?', 'Can you tell me the syllabus for Computer Science subjects at AVCOE?', 'What are the subjects for Mechanical Engineering students at AVCOE?', 'Tell me the subjects in Electrical Engineering at AVCOE.', 'What are the core subjects for Civil Engineering students at AVCOE?', 'What electives are available for Electronics and Telecommunication Engineering students at AVCOE?', 'Can you provide a list of subjects for Information Technology students at AVCOE?', 'What are the subjects for Instrumentation Engineering students at AVCOE?', 'What is the syllabus for Chemical Engineering at AVCOE?', 'Can you share the subjects for Biotechnology students at AVCOE?', 'What are the core and elective subjects in the Computer Engineering department at AVCOE?', 'Which subjects are included in the second year of Civil Engineering at AVCOE?', 'Tell me about the subjects offered in the third year of Mechanical Engineering at AVCOE.', 'What are the subjects in the final year of Electrical Engineering at AVCOE?', 'Are there any AI/ML-related subjects in the Computer Science curriculum at AVCOE?', 'Which subjects do students of the Electronics department study at AVCOE?', 'Can you provide details on the core and elective subjects in the Civil Engineering program at AVCOE?', 'How many subjects are there in the first year of the engineering program at AVCOE?', 'Tell me the subjects covered in the third year of Civil Engineering at AVCOE.', 'What are the electives available in the second year of Computer Science at AVCOE?', 'Are there any specific robotics subjects at AVCOE?', 'What subjects do students in the Biotechnology department at AVCOE study?', 'What are the key subjects covered in the Computer Engineering program at AVCOE?', 'Can you tell me about the Mathematics subjects in engineering at AVCOE?', 'How are the electronics subjects structured at AVCOE?', 'What subjects are available for the final year of Information Technology students at AVCOE?', 'What are the subjects in the second year of Instrumentation Engineering at AVCOE?', 'Are there any elective subjects in the final year of Electrical Engineering at AVCOE?', 'What are the core subjects for the first year of engineering at AVCOE?', 'Can you list the subjects offered in the second year of Mechanical Engineering at AVCOE?', 'What are the most important subjects in Chemical Engineering at AVCOE?', 'What subjects in Civil Engineering deal with environmental concerns at AVCOE?', 'What are the core and elective subjects in the Mechanical Engineering program at AVCOE?', 'What are the subjects related to automation and process control at AVCOE?', 'Can you explain the subjects in Electrical Engineering related to power systems?', 'What electives are available for final-year students in the Civil Engineering department at AVCOE?', 'Tell me about the lab-based subjects for Computer Science students at AVCOE.', 'What subjects do students of the Electronics department at AVCOE study in the third year?', 'What kind of subjects do students in the Biotechnology department study in their final year?', 'What core subjects are taught to students of Instrumentation Engineering in their second year?', 'How is the subject structure for the Information Technology department at AVCOE?', 'What subjects are taught in the final year of Computer Science at AVCOE?', 'Can you list all the subjects offered in the first year of engineering at AVCOE?', 'What are the most important subjects in the third year of Electrical Engineering at AVCOE?', 'How are electives structured in the second year of Civil Engineering at AVCOE?', 'Can you provide the subjects offered for students in the final year of Mechanical Engineering at AVCOE?', 'What are the advanced subjects in Chemical Engineering at AVCOE?', 'Tell me about the core subjects in Electrical Engineering at AVCOE.', 'What are the core subjects for Computer Engineering students at AVCOE?', 'Can you tell me about the subjects that focus on machine learning and artificial intelligence at AVCOE?', 'What subjects related to construction and materials are offered in Civil Engineering at AVCOE?', 'What are the most important subjects related to robotics in Mechanical Engineering at AVCOE?', 'How is the subject progression in Electronics and Telecommunication Engineering at AVCOE?', 'Can you list subjects in the second year of Chemical Engineering at AVCOE?', 'What are the subjects related to data science in the Computer Science department at AVCOE?', 'How are electrical circuits taught in the Electrical Engineering department at AVCOE?', 'What electives are available for Biotechnology students at AVCOE?', 'Can you explain the subjects related to embedded systems at AVCOE?', 'What are the core subjects related to programming in Computer Science at AVCOE?', 'Can you share the subjects related to network security in Information Technology at AVCOE?', 'What subjects in Mechanical Engineering are focused on materials and manufacturing?', 'How many subjects are taught in the final year of Civil Engineering at AVCOE?', 'What subjects related to thermodynamics are offered in Mechanical Engineering at AVCOE?', 'Can you explain the subjects related to geotechnical engineering at AVCOE?', 'What are the subjects in Electrical Engineering related to control systems?', 'What electives are available for students in the final year of Information Technology at AVCOE?', 'Can you provide a detailed list of subjects for first-year Civil Engineering students at AVCOE?', 'How many subjects related to data structures are covered in Computer Science at AVCOE?', 'Tell me about the practical subjects in Instrumentation Engineering at AVCOE.', 'What are the core subjects in Biotechnology at AVCOE?', 'How are communication systems taught in Electronics and Telecommunication at AVCOE?', 'What are the subjects offered in the third year of Instrumentation Engineering at AVCOE?', 'What electives in Machine Learning are available in the final year of Computer Science at AVCOE?', 'What are the core subjects related to fluid mechanics in Mechanical Engineering at AVCOE?', 'How is the subject structure in the first year of Instrumentation Engineering at AVCOE?', 'What subjects are related to software engineering in Computer Science at AVCOE?', 'Can you explain the subject structure in Electrical Engineering in the second year at AVCOE?', 'What are the core subjects in the Chemical Engineering program at AVCOE?', 'Can you list all the subjects in the second year of Biotechnology at AVCOE?', 'Tell me about the practical subjects in the Civil Engineering department at AVCOE?', 'What are the subjects offered in the first year of Electronics Engineering at AVCOE?', 'What are the key subjects in the Electrical Engineering program at AVCOE?', 'What electives are available in the second year of Electronics and Telecommunication Engineering at AVCOE?', 'Can you share the syllabus for Mechanical Engineering at AVCOE?', 'What are the subjects offered in the third year of Electronics at AVCOE?']\n",
      "Answers :  ['In the first year of engineering at AVCOE, students study foundational subjects such as Mathematics, Physics, Chemistry, Engineering Mechanics, and Computer Programming. These subjects are designed to provide a solid base for the core engineering disciplines.', 'The Computer Science department at AVCOE covers subjects like Data Structures, Algorithms, Operating Systems, Computer Networks, and Software Engineering in the first and second years. Electives such as Artificial Intelligence, Machine Learning, and Data Science are also offered in later years.', 'In the Mechanical Engineering department at AVCOE, core subjects include Thermodynamics, Fluid Mechanics, Strength of Materials, Engineering Mechanics, and Manufacturing Processes. Advanced electives like Robotics, CAD/CAM, and Vibration Analysis are available in the later years.', 'The Electrical Engineering department at AVCOE offers subjects such as Circuit Theory, Electrical Machines, Power Systems, Control Systems, and Electromagnetic Fields in the initial years. Later years focus on advanced topics like Power Electronics, Renewable Energy Systems, and Electrical Drives.', 'The Civil Engineering syllabus at AVCOE includes core subjects such as Structural Analysis, Building Materials, Fluid Mechanics, Geotechnical Engineering, and Transportation Engineering. Elective subjects like Environmental Engineering and Construction Management are available in the later years.', 'The Electronics and Telecommunication Engineering department at AVCOE offers subjects including Digital Electronics, Analog Electronics, Signals and Systems, Communication Systems, and Microprocessors. Electives such as Embedded Systems and IoT are available in later semesters.', 'The Information Technology department at AVCOE includes subjects like Database Management, Web Technologies, Network Security, Software Engineering, and Operating Systems. Electives in Cloud Computing, Cybersecurity, and Data Science are offered in advanced years.', 'The Instrumentation Engineering syllabus includes subjects like Process Control, Measurement Systems, Industrial Instrumentation, Automation, and Control Systems. Electives like Robotics and Data Acquisition Systems are offered in the later years.', 'The Chemical Engineering department at AVCOE covers subjects such as Material Science, Fluid Mechanics, Process Control, Thermodynamics, and Biochemical Engineering. In later semesters, electives include topics like Environmental Engineering and Process Optimization.', 'Yes, the Biotechnology department at AVCOE includes subjects such as Biochemistry, Molecular Biology, Genetic Engineering, Bioprocess Engineering, and Bioinformatics. Elective subjects such as Nanotechnology and Biopharmaceuticals are also offered.', 'In the Computer Engineering department at AVCOE, students study subjects such as Discrete Mathematics, Data Structures, Computer Networks, Digital Electronics, and Software Engineering. Electives in Artificial Intelligence, Machine Learning, and Cloud Computing are offered in higher years.', 'In the second year of Civil Engineering at AVCOE, subjects like Fluid Mechanics, Structural Analysis, Material Science, and Geotechnical Engineering are covered. Elective subjects like Environmental Engineering are also introduced.', 'In the third year of Mechanical Engineering at AVCOE, subjects include Strength of Materials, Machine Design, Heat Transfer, Manufacturing Technology, and Fluid Dynamics. Electives such as Robotics, Automation, and Vibrations are also offered.', 'The final year of Electrical Engineering at AVCOE includes subjects like Power System Protection, Electrical Drives, Power Electronics, and Renewable Energy. Students also engage in a major project in their final year to apply the knowledge gained.', 'Yes, the Computer Science department at AVCOE offers electives related to Artificial Intelligence and Machine Learning in the later years of the program. These electives are designed to provide in-depth knowledge of AI, ML, and their practical applications.', 'The Electronics department at AVCOE offers subjects like Digital Electronics, Control Systems, Communication Systems, Embedded Systems, and Microprocessors. Students also work on projects related to IoT, Robotics, and Signal Processing.', 'The Civil Engineering program at AVCOE offers core subjects such as Structural Analysis, Building Materials, Fluid Mechanics, and Geotechnical Engineering in earlier years. Later years include electives like Environmental Engineering, Construction Management, and Infrastructure Design.', 'In the first year of the engineering program at AVCOE, students study subjects like Mathematics, Physics, Chemistry, Engineering Mechanics, and Introduction to Computing. These subjects are essential for developing a foundation in engineering principles.', 'The second year of Civil Engineering includes subjects on Structural Mechanics, Concrete Technology, Water Resources, and Soil Mechanics. Students also take practical-based courses to complement their theoretical learning.', 'In the second year of Computer Science, students study subjects such as Discrete Mathematics, Data Structures, Software Engineering, and Operating Systems. Some elective subjects in this year include Database Management and Web Technologies.', 'The Robotics-related subjects are offered under Mechanical Engineering, Electronics and Telecommunication, and Computer Science departments. These subjects include Robotics and Automation and are offered as electives in the later years.', 'The Biotechnology department at AVCOE offers core subjects such as Molecular Biology, Biochemistry, Bioprocess Engineering, and Genetic Engineering. Electives like Bioinformatics and Nanotechnology are also available in advanced years.', 'The Computer Engineering program at AVCOE offers subjects like Digital Electronics, Computer Networks, Data Structures, and Software Engineering. Students can specialize in fields such as AI, ML, and Robotics through electives.', 'In the first year of engineering at AVCOE, Mathematics, Physics, and Chemistry are foundational subjects along with Engineering Mechanics and introductory courses in Computer Science and Programming.', 'The Electronics department offers subjects such as Analog Electronics, Communication Systems, and Digital Logic in the first year. Later, electives like Embedded Systems and Signal Processing are offered.', 'The final year subjects for Information Technology students at AVCOE include Software Engineering, Cloud Computing, Advanced Database Management, and IT Project Management.', 'The second-year Instrumentation Engineering subjects at AVCOE include Measurement Systems, Process Control, Industrial Instrumentation, and Electrical Systems Design.', 'Electrical Engineering students at AVCOE have electives like Power Electronics, Renewable Energy Systems, and Electrical Drives available in their final year to enhance their expertise.', 'The first-year core subjects at AVCOE include Mathematics, Physics, Chemistry, Engineering Mechanics, and Programming for all engineering disciplines.', 'Mechanical Engineering students in their second year study subjects such as Thermodynamics, Manufacturing Processes, Fluid Mechanics, and Engineering Mechanics.']\n"
     ]
    }
   ],
   "source": [
    "print(\"Questions : \", df['examples'])\n",
    "print(\"Answers : \", df['responses'])\n"
   ]
  },
  {
   "cell_type": "code",
   "execution_count": 22,
   "metadata": {},
   "outputs": [
    {
     "name": "stdout",
     "output_type": "stream",
     "text": [
      "CSV file 'avcoe.csv' created successfully!\n"
     ]
    }
   ],
   "source": [
    "# Ensure both lists have the same length\n",
    "max_len = max(len(df['examples']), len(df['responses']))\n",
    "\n",
    "# Pad the shorter list with empty strings\n",
    "examples = df['examples'] + [\"\"] * (max_len - len(df['examples']))\n",
    "responses = df['responses'] + [\"\"] * (max_len - len(df['responses']))\n",
    "\n",
    "# Create a DataFrame\n",
    "data = {'Questions': examples, 'Answers': responses}\n",
    "df_csv = pd.DataFrame(data)\n",
    "\n",
    "# Save to CSV\n",
    "df_csv.to_csv('avcoe.csv', index=False)\n",
    "\n",
    "print(\"CSV file 'avcoe.csv' created successfully!\")"
   ]
  },
  {
   "cell_type": "code",
   "execution_count": 42,
   "metadata": {},
   "outputs": [
    {
     "name": "stdout",
     "output_type": "stream",
     "text": [
      "{'intents': 0     {'intent': 'admissions_process', 'examples': [...\n",
      "1     {'intent': 'course_details', 'examples': ['Wha...\n",
      "2     {'intent': 'admission_details', 'examples': ['...\n",
      "3     {'intent': 'eligibility_criteria', 'examples':...\n",
      "4     {'intent': 'course_offerings', 'examples': ['W...\n",
      "5     {'intent': 'admission_process', 'examples': ['...\n",
      "6     {'intent': 'college_foundation', 'examples': [...\n",
      "7     {'intent': 'college_location', 'examples': ['W...\n",
      "8     {'intent': 'college_images', 'examples': ['Can...\n",
      "9     {'intent': 'all_events_activities_at_avcoe', '...\n",
      "10    {'intent': 'admission_process_avcoe', 'example...\n",
      "11    {'intent': 'faculty_staff_avcoe', 'examples': ...\n",
      "12    {'intent': 'hostel_facilities_avcoe', 'example...\n",
      "13    {'intent': 'placements_and_career_opportunitie...\n",
      "14    {'intent': 'college_infrastructure_and_facilit...\n",
      "15    {'intent': 'admissions_and_eligibility_criteri...\n",
      "16    {'intent': 'sports_and_events', 'examples': ['...\n",
      "17    {'intent': 'hostel_facilities', 'examples': ['...\n",
      "18    {'intent': 'library_facilities', 'examples': [...\n",
      "19    {'intent': 'branchwise_departments', 'examples...\n",
      "20    {'intent': 'computer_science_department', 'exa...\n",
      "21    {'intent': 'subjectwise_info', 'examples': ['W...\n",
      "Name: intents, dtype: object}\n"
     ]
    }
   ],
   "source": [
    "import pandas as pd\n",
    "import json\n",
    "\n",
    "data = dict(pd.read_json('AVCOE.json'))\n",
    "print(data)"
   ]
  },
  {
   "cell_type": "code",
   "execution_count": 43,
   "metadata": {},
   "outputs": [
    {
     "name": "stdout",
     "output_type": "stream",
     "text": [
      "CSV file 'avcoe.csv' created successfully!\n"
     ]
    }
   ],
   "source": [
    "questions = []\n",
    "answers = []\n",
    "\n",
    "for intent in data[\"intents\"]:\n",
    "    # Ensure both lists have the same length before zipping\n",
    "    min_length = min(len(intent[\"examples\"]), len(intent[\"responses\"]))\n",
    "    \n",
    "    # Zip examples and responses together\n",
    "    for example, response in zip(intent[\"examples\"][:min_length], intent[\"responses\"][:min_length]):\n",
    "        questions.append(example)\n",
    "        answers.append(response)\n",
    "\n",
    "# Create a DataFrame\n",
    "df = pd.DataFrame({\"Questions\": questions, \"Answers\": answers})\n",
    "\n",
    "# Save to CSV\n",
    "df.to_csv(\"avcoe.csv\", index=False)\n",
    "\n",
    "print(\"CSV file 'avcoe.csv' created successfully!\")"
   ]
  },
  {
   "cell_type": "code",
   "execution_count": 41,
   "metadata": {},
   "outputs": [
    {
     "name": "stdout",
     "output_type": "stream",
     "text": [
      "Total Examples: 85\n",
      "Total Responses: 30\n",
      "Examples and responses saved successfully!\n"
     ]
    }
   ],
   "source": [
    "import json\n",
    "\n",
    "# Load JSON file\n",
    "with open(\"AVCOE.json\", \"r\", encoding=\"utf-8\") as file:\n",
    "    data = json.load(file)\n",
    "\n",
    "# Extract all examples and responses\n",
    "examples = []\n",
    "responses = []\n",
    "\n",
    "for intent in data[\"intents\"]:\n",
    "    examples.extend(intent.get(\"examples\", []))  # Collect all examples\n",
    "    responses.extend(intent.get(\"responses\", []))  # Collect all responses\n",
    "\n",
    "# Output the results\n",
    "print(f\"Total Examples: {len(examples)}\")\n",
    "print(f\"Total Responses: {len(responses)}\")\n",
    "\n",
    "# Save to separate text files\n",
    "with open(\"examples.txt\", \"w\", encoding=\"utf-8\") as f:\n",
    "    f.write(\"\\n\".join(examples))\n",
    "\n",
    "with open(\"responses.txt\", \"w\", encoding=\"utf-8\") as f:\n",
    "    f.write(\"\\n\".join(responses))\n",
    "\n",
    "print(\"Examples and responses saved successfully!\")"
   ]
  },
  {
   "cell_type": "code",
   "execution_count": null,
   "metadata": {},
   "outputs": [],
   "source": []
  }
 ],
 "metadata": {
  "kernelspec": {
   "display_name": "Python 3",
   "language": "python",
   "name": "python3"
  },
  "language_info": {
   "codemirror_mode": {
    "name": "ipython",
    "version": 3
   },
   "file_extension": ".py",
   "mimetype": "text/x-python",
   "name": "python",
   "nbconvert_exporter": "python",
   "pygments_lexer": "ipython3",
   "version": "3.10.0"
  }
 },
 "nbformat": 4,
 "nbformat_minor": 2
}
