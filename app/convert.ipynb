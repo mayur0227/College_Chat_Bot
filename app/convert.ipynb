{
 "cells": [
  {
   "cell_type": "code",
   "execution_count": null,
   "metadata": {},
   "outputs": [
    {
     "ename": "AttributeError",
     "evalue": "'str' object has no attribute 'get'",
     "output_type": "error",
     "traceback": [
      "\u001b[1;31m---------------------------------------------------------------------------\u001b[0m",
      "\u001b[1;31mAttributeError\u001b[0m                            Traceback (most recent call last)",
      "Cell \u001b[1;32mIn[2], line 25\u001b[0m\n\u001b[0;32m     23\u001b[0m json_file \u001b[38;5;241m=\u001b[39m \u001b[38;5;124m'\u001b[39m\u001b[38;5;124mE:/project/chatbot AVCOE IT/virtual_assistant amruvahini final/app/AVCOE.json\u001b[39m\u001b[38;5;124m'\u001b[39m  \u001b[38;5;66;03m# Replace with your JSON file path\u001b[39;00m\n\u001b[0;32m     24\u001b[0m csv_file \u001b[38;5;241m=\u001b[39m \u001b[38;5;124m'\u001b[39m\u001b[38;5;124mE:/project/chatbot AVCOE IT/virtual_assistant amruvahini final/dataset/AVCOE_dataset.csv\u001b[39m\u001b[38;5;124m'\u001b[39m  \u001b[38;5;66;03m# Replace with your desired CSV file path\u001b[39;00m\n\u001b[1;32m---> 25\u001b[0m \u001b[43mjson_to_csv\u001b[49m\u001b[43m(\u001b[49m\u001b[43mjson_file\u001b[49m\u001b[43m,\u001b[49m\u001b[43m \u001b[49m\u001b[43mcsv_file\u001b[49m\u001b[43m)\u001b[49m\n",
      "Cell \u001b[1;32mIn[2], line 17\u001b[0m, in \u001b[0;36mjson_to_csv\u001b[1;34m(json_file, csv_file)\u001b[0m\n\u001b[0;32m     15\u001b[0m \u001b[38;5;66;03m# Write the data rows based on the structure of the JSON\u001b[39;00m\n\u001b[0;32m     16\u001b[0m \u001b[38;5;28;01mfor\u001b[39;00m entry \u001b[38;5;129;01min\u001b[39;00m data:\n\u001b[1;32m---> 17\u001b[0m     intent \u001b[38;5;241m=\u001b[39m \u001b[43mentry\u001b[49m\u001b[38;5;241;43m.\u001b[39;49m\u001b[43mget\u001b[49m(\u001b[38;5;124m'\u001b[39m\u001b[38;5;124mintent\u001b[39m\u001b[38;5;124m'\u001b[39m, \u001b[38;5;124m'\u001b[39m\u001b[38;5;124m'\u001b[39m)\n\u001b[0;32m     18\u001b[0m     examples \u001b[38;5;241m=\u001b[39m \u001b[38;5;124m'\u001b[39m\u001b[38;5;124m, \u001b[39m\u001b[38;5;124m'\u001b[39m\u001b[38;5;241m.\u001b[39mjoin(entry\u001b[38;5;241m.\u001b[39mget(\u001b[38;5;124m'\u001b[39m\u001b[38;5;124mexamples\u001b[39m\u001b[38;5;124m'\u001b[39m, []))  \u001b[38;5;66;03m# Join list into a string\u001b[39;00m\n\u001b[0;32m     19\u001b[0m     responses \u001b[38;5;241m=\u001b[39m \u001b[38;5;124m'\u001b[39m\u001b[38;5;124m, \u001b[39m\u001b[38;5;124m'\u001b[39m\u001b[38;5;241m.\u001b[39mjoin(entry\u001b[38;5;241m.\u001b[39mget(\u001b[38;5;124m'\u001b[39m\u001b[38;5;124mresponses\u001b[39m\u001b[38;5;124m'\u001b[39m, []))  \u001b[38;5;66;03m# Join list into a string\u001b[39;00m\n",
      "\u001b[1;31mAttributeError\u001b[0m: 'str' object has no attribute 'get'"
     ]
    }
   ],
   "source": [
    "import json\n",
    "import csv\n",
    "\n",
    "# Function to convert JSON to CSV with specific columns\n",
    "def json_to_csv(json_file, csv_file):\n",
    "    # Open the JSON file\n",
    "    with open(json_file, 'r') as f:\n",
    "        data = json.load(f)\n",
    "\n",
    "    # Open the CSV file for writing\n",
    "    with open(csv_file, 'w', newline='') as f:\n",
    "        writer = csv.writer(f)\n",
    "        writer.writerow(['intent', 'examples', 'responses'])  # Write header\n",
    "\n",
    "        # Check if data is a list of dictionaries\n",
    "        if isinstance(data, list):\n",
    "            for entry in data:\n",
    "                if isinstance(entry, dict):\n",
    "                    intent = entry.get('intent', '')\n",
    "                    examples = ', '.join(entry.get('examples', []))  # Join list into a string\n",
    "                    responses = ', '.join(entry.get('responses', []))  # Join list into a string\n",
    "                    writer.writerow([intent, examples, responses])\n",
    "                else:\n",
    "                    print(f\"Skipping entry (not a dictionary): {entry}\")\n",
    "        else:\n",
    "            print(f\"Expected a list, but got {type(data)}\")\n",
    "\n",
    "# Example usage\n",
    "json_file = 'E:/project/chatbot AVCOE IT/virtual_assistant amruvahini final/app/AVCOE.json'  # Replace with your JSON file path\n",
    "csv_file = 'E:/project/chatbot AVCOE IT/virtual_assistant amruvahini final/dataset/AVCOE_dataset.csv'  # Replace with your desired CSV file path\n",
    "json_to_csv(json_file, csv_file)\n"
   ]
  },
  {
   "cell_type": "code",
   "execution_count": null,
   "metadata": {},
   "outputs": [],
   "source": []
  }
 ],
 "metadata": {
  "kernelspec": {
   "display_name": "Python 3",
   "language": "python",
   "name": "python3"
  },
  "language_info": {
   "codemirror_mode": {
    "name": "ipython",
    "version": 3
   },
   "file_extension": ".py",
   "mimetype": "text/x-python",
   "name": "python",
   "nbconvert_exporter": "python",
   "pygments_lexer": "ipython3",
   "version": "3.10.0"
  }
 },
 "nbformat": 4,
 "nbformat_minor": 2
}
